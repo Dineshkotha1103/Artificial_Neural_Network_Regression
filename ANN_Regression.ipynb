{
  "nbformat": 4,
  "nbformat_minor": 0,
  "metadata": {
    "colab": {
      "provenance": []
    },
    "kernelspec": {
      "name": "python3",
      "display_name": "Python 3"
    },
    "language_info": {
      "name": "python"
    }
  },
  "cells": [
    {
      "cell_type": "code",
      "execution_count": 8,
      "metadata": {
        "id": "WqjOxI9IRqn7"
      },
      "outputs": [],
      "source": [
        "import numpy as np\n",
        "import pandas as pd                                     #importing libraries\n",
        "import tensorflow as tf"
      ]
    },
    {
      "cell_type": "code",
      "source": [
        "dataset = pd.read_excel(\"Folds5x2_pp.xlsx\")\n",
        "X = dataset.iloc[:, :-1].values                         #importing dataset\n",
        "y = dataset.iloc[:,-1].values"
      ],
      "metadata": {
        "id": "htCphvbHSOdl"
      },
      "execution_count": 10,
      "outputs": []
    },
    {
      "cell_type": "code",
      "source": [
        "from sklearn.model_selection import train_test_split    #splitting the dataset into train & test\n",
        "X_train,X_test,y_train,y_test = train_test_split(X,y,test_size=0.2,random_state=0)"
      ],
      "metadata": {
        "id": "24Fat0zAS02X"
      },
      "execution_count": 23,
      "outputs": []
    },
    {
      "cell_type": "code",
      "source": [
        "ann = tf.keras.models.Sequential()                      #initializing ANN"
      ],
      "metadata": {
        "id": "NayND9XMUDeW"
      },
      "execution_count": 24,
      "outputs": []
    },
    {
      "cell_type": "code",
      "source": [
        "ann.add(tf.keras.layers.Dense(units=6, activation='relu'))          #adding first input layer and first hidden layer"
      ],
      "metadata": {
        "id": "4A2W2IOBXtIi"
      },
      "execution_count": 25,
      "outputs": []
    },
    {
      "cell_type": "code",
      "source": [
        "ann.add(tf.keras.layers.Dense(units=6, activation='relu'))          #adding second input layer"
      ],
      "metadata": {
        "id": "uNvppXz3YJzT"
      },
      "execution_count": 26,
      "outputs": []
    },
    {
      "cell_type": "code",
      "source": [
        "ann.add(tf.keras.layers.Dense(units=1))                             #adding output layer"
      ],
      "metadata": {
        "id": "X4ds93enYQlZ"
      },
      "execution_count": 27,
      "outputs": []
    },
    {
      "cell_type": "code",
      "source": [
        "ann.compile(optimizer='adam', loss='mean_squared_error')            #compiling ANN"
      ],
      "metadata": {
        "id": "IqOHHPiUYeHR"
      },
      "execution_count": 28,
      "outputs": []
    },
    {
      "cell_type": "code",
      "source": [
        "ann.fit(X_train,y_train,batch_size=32,epochs=100)                   #training the model"
      ],
      "metadata": {
        "colab": {
          "base_uri": "https://localhost:8080/"
        },
        "id": "mD1Pkc94ZV4i",
        "outputId": "286dda31-bd23-45da-d253-2a8188da8a61"
      },
      "execution_count": 29,
      "outputs": [
        {
          "output_type": "stream",
          "name": "stdout",
          "text": [
            "Epoch 1/100\n",
            "240/240 [==============================] - 1s 2ms/step - loss: 1879.5591\n",
            "Epoch 2/100\n",
            "240/240 [==============================] - 0s 2ms/step - loss: 304.5129\n",
            "Epoch 3/100\n",
            "240/240 [==============================] - 0s 2ms/step - loss: 270.1018\n",
            "Epoch 4/100\n",
            "240/240 [==============================] - 0s 2ms/step - loss: 231.4967\n",
            "Epoch 5/100\n",
            "240/240 [==============================] - 0s 2ms/step - loss: 192.0503\n",
            "Epoch 6/100\n",
            "240/240 [==============================] - 0s 2ms/step - loss: 153.5822\n",
            "Epoch 7/100\n",
            "240/240 [==============================] - 0s 2ms/step - loss: 117.6950\n",
            "Epoch 8/100\n",
            "240/240 [==============================] - 0s 2ms/step - loss: 89.2998\n",
            "Epoch 9/100\n",
            "240/240 [==============================] - 0s 2ms/step - loss: 68.7345\n",
            "Epoch 10/100\n",
            "240/240 [==============================] - 0s 2ms/step - loss: 54.8585\n",
            "Epoch 11/100\n",
            "240/240 [==============================] - 0s 2ms/step - loss: 46.0328\n",
            "Epoch 12/100\n",
            "240/240 [==============================] - 0s 2ms/step - loss: 39.9645\n",
            "Epoch 13/100\n",
            "240/240 [==============================] - 0s 2ms/step - loss: 36.0823\n",
            "Epoch 14/100\n",
            "240/240 [==============================] - 0s 2ms/step - loss: 33.6146\n",
            "Epoch 15/100\n",
            "240/240 [==============================] - 0s 2ms/step - loss: 31.7299\n",
            "Epoch 16/100\n",
            "240/240 [==============================] - 0s 2ms/step - loss: 30.4362\n",
            "Epoch 17/100\n",
            "240/240 [==============================] - 0s 2ms/step - loss: 29.7433\n",
            "Epoch 18/100\n",
            "240/240 [==============================] - 0s 2ms/step - loss: 29.3501\n",
            "Epoch 19/100\n",
            "240/240 [==============================] - 0s 2ms/step - loss: 28.8986\n",
            "Epoch 20/100\n",
            "240/240 [==============================] - 0s 2ms/step - loss: 28.3252\n",
            "Epoch 21/100\n",
            "240/240 [==============================] - 0s 2ms/step - loss: 28.3050\n",
            "Epoch 22/100\n",
            "240/240 [==============================] - 1s 3ms/step - loss: 28.4182\n",
            "Epoch 23/100\n",
            "240/240 [==============================] - 1s 2ms/step - loss: 28.5086\n",
            "Epoch 24/100\n",
            "240/240 [==============================] - 1s 2ms/step - loss: 28.0089\n",
            "Epoch 25/100\n",
            "240/240 [==============================] - 1s 2ms/step - loss: 28.2970\n",
            "Epoch 26/100\n",
            "240/240 [==============================] - 1s 2ms/step - loss: 27.8944\n",
            "Epoch 27/100\n",
            "240/240 [==============================] - 0s 2ms/step - loss: 28.3746\n",
            "Epoch 28/100\n",
            "240/240 [==============================] - 0s 2ms/step - loss: 27.4508\n",
            "Epoch 29/100\n",
            "240/240 [==============================] - 0s 2ms/step - loss: 28.1478\n",
            "Epoch 30/100\n",
            "240/240 [==============================] - 0s 2ms/step - loss: 27.3334\n",
            "Epoch 31/100\n",
            "240/240 [==============================] - 0s 2ms/step - loss: 27.8492\n",
            "Epoch 32/100\n",
            "240/240 [==============================] - 0s 2ms/step - loss: 27.7850\n",
            "Epoch 33/100\n",
            "240/240 [==============================] - 0s 2ms/step - loss: 27.8308\n",
            "Epoch 34/100\n",
            "240/240 [==============================] - 0s 2ms/step - loss: 27.2941\n",
            "Epoch 35/100\n",
            "240/240 [==============================] - 0s 2ms/step - loss: 27.9685\n",
            "Epoch 36/100\n",
            "240/240 [==============================] - 0s 2ms/step - loss: 27.1425\n",
            "Epoch 37/100\n",
            "240/240 [==============================] - 0s 2ms/step - loss: 27.6036\n",
            "Epoch 38/100\n",
            "240/240 [==============================] - 0s 2ms/step - loss: 27.6687\n",
            "Epoch 39/100\n",
            "240/240 [==============================] - 0s 2ms/step - loss: 27.1659\n",
            "Epoch 40/100\n",
            "240/240 [==============================] - 0s 2ms/step - loss: 27.0633\n",
            "Epoch 41/100\n",
            "240/240 [==============================] - 0s 2ms/step - loss: 26.5937\n",
            "Epoch 42/100\n",
            "240/240 [==============================] - 0s 2ms/step - loss: 28.0646\n",
            "Epoch 43/100\n",
            "240/240 [==============================] - 0s 2ms/step - loss: 27.1430\n",
            "Epoch 44/100\n",
            "240/240 [==============================] - 0s 2ms/step - loss: 27.3961\n",
            "Epoch 45/100\n",
            "240/240 [==============================] - 0s 2ms/step - loss: 27.3993\n",
            "Epoch 46/100\n",
            "240/240 [==============================] - 0s 2ms/step - loss: 27.4770\n",
            "Epoch 47/100\n",
            "240/240 [==============================] - 0s 2ms/step - loss: 27.3203\n",
            "Epoch 48/100\n",
            "240/240 [==============================] - 0s 2ms/step - loss: 27.7569\n",
            "Epoch 49/100\n",
            "240/240 [==============================] - 0s 2ms/step - loss: 28.2907\n",
            "Epoch 50/100\n",
            "240/240 [==============================] - 0s 2ms/step - loss: 27.8117\n",
            "Epoch 51/100\n",
            "240/240 [==============================] - 1s 3ms/step - loss: 27.0147\n",
            "Epoch 52/100\n",
            "240/240 [==============================] - 1s 2ms/step - loss: 26.6819\n",
            "Epoch 53/100\n",
            "240/240 [==============================] - 1s 2ms/step - loss: 26.9830\n",
            "Epoch 54/100\n",
            "240/240 [==============================] - 1s 2ms/step - loss: 28.4613\n",
            "Epoch 55/100\n",
            "240/240 [==============================] - 0s 2ms/step - loss: 27.2933\n",
            "Epoch 56/100\n",
            "240/240 [==============================] - 0s 2ms/step - loss: 27.6896\n",
            "Epoch 57/100\n",
            "240/240 [==============================] - 0s 2ms/step - loss: 26.7732\n",
            "Epoch 58/100\n",
            "240/240 [==============================] - 0s 2ms/step - loss: 27.1195\n",
            "Epoch 59/100\n",
            "240/240 [==============================] - 0s 2ms/step - loss: 27.4945\n",
            "Epoch 60/100\n",
            "240/240 [==============================] - 0s 2ms/step - loss: 26.9125\n",
            "Epoch 61/100\n",
            "240/240 [==============================] - 0s 2ms/step - loss: 27.1013\n",
            "Epoch 62/100\n",
            "240/240 [==============================] - 0s 2ms/step - loss: 27.1167\n",
            "Epoch 63/100\n",
            "240/240 [==============================] - 0s 2ms/step - loss: 26.8876\n",
            "Epoch 64/100\n",
            "240/240 [==============================] - 0s 2ms/step - loss: 26.9116\n",
            "Epoch 65/100\n",
            "240/240 [==============================] - 0s 2ms/step - loss: 27.8371\n",
            "Epoch 66/100\n",
            "240/240 [==============================] - 0s 2ms/step - loss: 27.4886\n",
            "Epoch 67/100\n",
            "240/240 [==============================] - 0s 2ms/step - loss: 26.9301\n",
            "Epoch 68/100\n",
            "240/240 [==============================] - 0s 2ms/step - loss: 27.4572\n",
            "Epoch 69/100\n",
            "240/240 [==============================] - 0s 2ms/step - loss: 26.8429\n",
            "Epoch 70/100\n",
            "240/240 [==============================] - 0s 2ms/step - loss: 26.8599\n",
            "Epoch 71/100\n",
            "240/240 [==============================] - 0s 2ms/step - loss: 27.1776\n",
            "Epoch 72/100\n",
            "240/240 [==============================] - 0s 2ms/step - loss: 27.3010\n",
            "Epoch 73/100\n",
            "240/240 [==============================] - 0s 2ms/step - loss: 27.3254\n",
            "Epoch 74/100\n",
            "240/240 [==============================] - 0s 2ms/step - loss: 27.2306\n",
            "Epoch 75/100\n",
            "240/240 [==============================] - 0s 2ms/step - loss: 26.5549\n",
            "Epoch 76/100\n",
            "240/240 [==============================] - 0s 2ms/step - loss: 27.9030\n",
            "Epoch 77/100\n",
            "240/240 [==============================] - 0s 2ms/step - loss: 27.2869\n",
            "Epoch 78/100\n",
            "240/240 [==============================] - 0s 2ms/step - loss: 27.6445\n",
            "Epoch 79/100\n",
            "240/240 [==============================] - 1s 2ms/step - loss: 27.4951\n",
            "Epoch 80/100\n",
            "240/240 [==============================] - 1s 4ms/step - loss: 26.5436\n",
            "Epoch 81/100\n",
            "240/240 [==============================] - 1s 6ms/step - loss: 27.4366\n",
            "Epoch 82/100\n",
            "240/240 [==============================] - 0s 2ms/step - loss: 26.7567\n",
            "Epoch 83/100\n",
            "240/240 [==============================] - 0s 2ms/step - loss: 26.7394\n",
            "Epoch 84/100\n",
            "240/240 [==============================] - 0s 2ms/step - loss: 27.5221\n",
            "Epoch 85/100\n",
            "240/240 [==============================] - 0s 2ms/step - loss: 27.1855\n",
            "Epoch 86/100\n",
            "240/240 [==============================] - 0s 2ms/step - loss: 27.4602\n",
            "Epoch 87/100\n",
            "240/240 [==============================] - 0s 2ms/step - loss: 27.5784\n",
            "Epoch 88/100\n",
            "240/240 [==============================] - 0s 2ms/step - loss: 27.2310\n",
            "Epoch 89/100\n",
            "240/240 [==============================] - 0s 2ms/step - loss: 26.9455\n",
            "Epoch 90/100\n",
            "240/240 [==============================] - 0s 2ms/step - loss: 27.4083\n",
            "Epoch 91/100\n",
            "240/240 [==============================] - 0s 2ms/step - loss: 27.2068\n",
            "Epoch 92/100\n",
            "240/240 [==============================] - 0s 2ms/step - loss: 26.7972\n",
            "Epoch 93/100\n",
            "240/240 [==============================] - 0s 2ms/step - loss: 27.3459\n",
            "Epoch 94/100\n",
            "240/240 [==============================] - 0s 2ms/step - loss: 27.4960\n",
            "Epoch 95/100\n",
            "240/240 [==============================] - 0s 2ms/step - loss: 26.8463\n",
            "Epoch 96/100\n",
            "240/240 [==============================] - 0s 2ms/step - loss: 27.0507\n",
            "Epoch 97/100\n",
            "240/240 [==============================] - 0s 2ms/step - loss: 28.1270\n",
            "Epoch 98/100\n",
            "240/240 [==============================] - 0s 2ms/step - loss: 26.3363\n",
            "Epoch 99/100\n",
            "240/240 [==============================] - 0s 2ms/step - loss: 26.6298\n",
            "Epoch 100/100\n",
            "240/240 [==============================] - 0s 2ms/step - loss: 27.0564\n"
          ]
        },
        {
          "output_type": "execute_result",
          "data": {
            "text/plain": [
              "<keras.callbacks.History at 0x7f28575a9c40>"
            ]
          },
          "metadata": {},
          "execution_count": 29
        }
      ]
    },
    {
      "cell_type": "code",
      "source": [
        "y_pred = ann.predict(X_test)\n",
        "np.set_printoptions(precision=2)                                                      #predicting & comparing the test set results\n",
        "print(np.concatenate((y_pred.reshape(len(y_pred),1), y_test.reshape(len(y_test),1)),1))"
      ],
      "metadata": {
        "colab": {
          "base_uri": "https://localhost:8080/"
        },
        "id": "xQa5rvQxZ7Ok",
        "outputId": "8fa3451e-a14f-4b44-9f06-d63a9825c724"
      },
      "execution_count": 30,
      "outputs": [
        {
          "output_type": "stream",
          "name": "stdout",
          "text": [
            "60/60 [==============================] - 0s 1ms/step\n",
            "[[431.16 431.23]\n",
            " [462.2  460.01]\n",
            " [465.74 461.14]\n",
            " ...\n",
            " [472.84 473.26]\n",
            " [439.9  438.  ]\n",
            " [458.96 463.28]]\n"
          ]
        }
      ]
    }
  ]
}